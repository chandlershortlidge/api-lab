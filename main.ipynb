{
 "cells": [
  {
   "cell_type": "code",
   "execution_count": 47,
   "id": "458653cd",
   "metadata": {},
   "outputs": [
    {
     "name": "stdout",
     "output_type": "stream",
     "text": [
      "Successfully loaded Client ID: d27240c3a55143ff8bdf61b5bb37ced9\n"
     ]
    }
   ],
   "source": [
    "import spotipy\n",
    "import pandas as pd\n",
    "import json\n",
    "from config_file import SPOTIFY_CLIENT_ID, SPOTIFY_CLIENT_SECRET\n",
    "import pprint\n",
    "from dotenv import load_dotenv\n",
    "load_dotenv()\n",
    "from io import StringIO\n",
    "import seaborn as sns\n",
    "import matplotlib.pyplot as plt\n",
    "print(f\"Successfully loaded Client ID: {SPOTIFY_CLIENT_ID}\")"
   ]
  },
  {
   "cell_type": "code",
   "execution_count": 7,
   "id": "62e499a2",
   "metadata": {},
   "outputs": [],
   "source": [
    "from spotipy.oauth2 import SpotifyClientCredentials\n",
    "sp = spotipy.Spotify(auth_manager=SpotifyClientCredentials(client_id=SPOTIFY_CLIENT_ID, client_secret=SPOTIFY_CLIENT_SECRET))"
   ]
  },
  {
   "cell_type": "code",
   "execution_count": 8,
   "id": "8319aff6",
   "metadata": {},
   "outputs": [],
   "source": [
    "if 'df' not in globals():\n",
    "    df = pd.DataFrame(columns=[\"artist_id\", \"artist\", \"followers\", \"popularity\", \"genres\"])\n"
   ]
  },
  {
   "cell_type": "markdown",
   "id": "06a4f3b7",
   "metadata": {},
   "source": [
    "# Mary Lattimore"
   ]
  },
  {
   "cell_type": "code",
   "execution_count": 9,
   "id": "0d5cb92c",
   "metadata": {},
   "outputs": [
    {
     "data": {
      "text/plain": [
       "(5, 'Mary Lattimore', '38MKhZmMRHAZRz8LqtKIBw')"
      ]
     },
     "execution_count": 9,
     "metadata": {},
     "output_type": "execute_result"
    }
   ],
   "source": [
    "name = \"Mary Lattimore\"   # change this if you want\n",
    "res = sp.search(q=name, type=\"artist\", limit=5)\n",
    "items = res[\"artists\"][\"items\"]\n",
    "len(items), items[0][\"name\"], items[0][\"id\"]\n"
   ]
  },
  {
   "cell_type": "code",
   "execution_count": 10,
   "id": "3d5f9125",
   "metadata": {},
   "outputs": [
    {
     "data": {
      "text/plain": [
       "{'artist_id': '38MKhZmMRHAZRz8LqtKIBw',\n",
       " 'artist': 'Mary Lattimore',\n",
       " 'followers': 60014,\n",
       " 'popularity': 44,\n",
       " 'genres': 'ambient, art pop'}"
      ]
     },
     "execution_count": 10,
     "metadata": {},
     "output_type": "execute_result"
    }
   ],
   "source": [
    "aid = items[0][\"id\"]\n",
    "a = sp.artist(aid)\n",
    "\n",
    "row = {\n",
    "    \"artist_id\": a[\"id\"],\n",
    "    \"artist\": a[\"name\"],\n",
    "    \"followers\": a[\"followers\"][\"total\"],\n",
    "    \"popularity\": a[\"popularity\"],\n",
    "    \"genres\": \", \".join(a.get(\"genres\", [])[:5])\n",
    "}\n",
    "row"
   ]
  },
  {
   "cell_type": "code",
   "execution_count": 11,
   "id": "2654e9d3",
   "metadata": {},
   "outputs": [
    {
     "data": {
      "text/plain": [
       "[('Oh I Miss Her So', 44),\n",
       " ('Dreaming of the Kelly Pool', 41),\n",
       " (\"Sometimes He's In My Dreams\", 41),\n",
       " ('Wait For Now - Mary Lattimore Rework', 37),\n",
       " ('Pine Trees', 37)]"
      ]
     },
     "execution_count": 11,
     "metadata": {},
     "output_type": "execute_result"
    }
   ],
   "source": [
    "tops = sp.artist_top_tracks(aid, country=\"US\")[\"tracks\"]\n",
    "[(t[\"name\"], t[\"popularity\"]) for t in tops[:5]]\n"
   ]
  },
  {
   "cell_type": "markdown",
   "id": "50dcdbbb",
   "metadata": {},
   "source": [
    "# Juliana Barwick"
   ]
  },
  {
   "cell_type": "code",
   "execution_count": 12,
   "id": "c945d85b",
   "metadata": {},
   "outputs": [
    {
     "data": {
      "text/plain": [
       "(5, 'Julianna Barwick', '0HWfFWL4vVrbaBQqxVCwCi')"
      ]
     },
     "execution_count": 12,
     "metadata": {},
     "output_type": "execute_result"
    }
   ],
   "source": [
    "name2 = \"Julianna Barwick\"   # change this if you want\n",
    "res2 = sp.search(q=name2, type=\"artist\", limit=5)\n",
    "items2 = res2[\"artists\"][\"items\"]\n",
    "len(items2), items2[0][\"name\"], items2[0][\"id\"]\n"
   ]
  },
  {
   "cell_type": "code",
   "execution_count": 13,
   "id": "2e146d5d",
   "metadata": {},
   "outputs": [
    {
     "data": {
      "text/plain": [
       "{'artist_id': '0HWfFWL4vVrbaBQqxVCwCi',\n",
       " 'artist': 'Julianna Barwick',\n",
       " 'followers': 92073,\n",
       " 'popularity': 47,\n",
       " 'genres': 'ambient, drone, art pop'}"
      ]
     },
     "execution_count": 13,
     "metadata": {},
     "output_type": "execute_result"
    }
   ],
   "source": [
    "aid2 = items2[0][\"id\"]\n",
    "a2 = sp.artist(aid2)\n",
    "\n",
    "row2 = {\n",
    "    \"artist_id\": a2[\"id\"],\n",
    "    \"artist\": a2[\"name\"],\n",
    "    \"followers\": a2[\"followers\"][\"total\"],\n",
    "    \"popularity\": a2[\"popularity\"],\n",
    "    \"genres\": \", \".join(a2.get(\"genres\", [])[:5])\n",
    "}\n",
    "row2\n"
   ]
  },
  {
   "cell_type": "markdown",
   "id": "201a0059",
   "metadata": {},
   "source": [
    "# Laraaji"
   ]
  },
  {
   "cell_type": "code",
   "execution_count": 14,
   "id": "5910e31b",
   "metadata": {},
   "outputs": [
    {
     "data": {
      "text/plain": [
       "(5, 'Laraaji', '6sd3qv6kReAdo6WsLBtXX4')"
      ]
     },
     "execution_count": 14,
     "metadata": {},
     "output_type": "execute_result"
    }
   ],
   "source": [
    "name2 = \"Laraaji\"   # change this if you want\n",
    "res2 = sp.search(q=name2, type=\"artist\", limit=5)\n",
    "items2 = res2[\"artists\"][\"items\"]\n",
    "len(items2), items2[0][\"name\"], items2[0][\"id\"]\n"
   ]
  },
  {
   "cell_type": "code",
   "execution_count": 15,
   "id": "e0dedca0",
   "metadata": {},
   "outputs": [
    {
     "data": {
      "text/plain": [
       "('Laraaji', '6sd3qv6kReAdo6WsLBtXX4', 67368, 49)"
      ]
     },
     "execution_count": 15,
     "metadata": {},
     "output_type": "execute_result"
    }
   ],
   "source": [
    "name3 = \"Laraaji\"\n",
    "res3 = sp.search(q=name3, type=\"artist\", limit=5)\n",
    "candidates = res3[\"artists\"][\"items\"]\n",
    "\n",
    "# pick exact name match if available, otherwise first result\n",
    "art3 = next((a for a in candidates if a[\"name\"].lower() == name3.lower()),\n",
    "            candidates[0])\n",
    "\n",
    "art3[\"name\"], art3[\"id\"], art3[\"followers\"][\"total\"], art3[\"popularity\"]\n"
   ]
  },
  {
   "cell_type": "code",
   "execution_count": 16,
   "id": "abddaebd",
   "metadata": {},
   "outputs": [
    {
     "data": {
      "text/plain": [
       "{'artist_id': '6sd3qv6kReAdo6WsLBtXX4',\n",
       " 'artist': 'Laraaji',\n",
       " 'followers': 67368,\n",
       " 'popularity': 49,\n",
       " 'genres': 'ambient, drone, new age'}"
      ]
     },
     "execution_count": 16,
     "metadata": {},
     "output_type": "execute_result"
    }
   ],
   "source": [
    "a3 = sp.artist(art3[\"id\"])\n",
    "\n",
    "row3 = {\n",
    "    \"artist_id\": a3[\"id\"],\n",
    "    \"artist\": a3[\"name\"],\n",
    "    \"followers\": a3[\"followers\"][\"total\"],\n",
    "    \"popularity\": a3[\"popularity\"],\n",
    "    \"genres\": \", \".join(a3.get(\"genres\", [])[:5])\n",
    "}\n",
    "row3\n"
   ]
  },
  {
   "cell_type": "markdown",
   "id": "1eebd537",
   "metadata": {},
   "source": [
    "## Kelly Moran"
   ]
  },
  {
   "cell_type": "code",
   "execution_count": 17,
   "id": "7af2d6dc",
   "metadata": {},
   "outputs": [
    {
     "data": {
      "text/plain": [
       "('Kelly Moran', '4M1M6wBMvcwdQ5EHUAVKgK', 1077, 23)"
      ]
     },
     "execution_count": 17,
     "metadata": {},
     "output_type": "execute_result"
    }
   ],
   "source": [
    "name4 = \"Kelly Moran\"\n",
    "res4 = sp.search(q=name4, type=\"artist\", limit=10)\n",
    "cands4 = res4[\"artists\"][\"items\"]\n",
    "\n",
    "art4 = next((a for a in cands4 if a[\"name\"].lower() == name4.lower()),\n",
    "            cands4[0])\n",
    "\n",
    "art4[\"name\"], art4[\"id\"], art4[\"followers\"][\"total\"], art4[\"popularity\"]\n"
   ]
  },
  {
   "cell_type": "code",
   "execution_count": 18,
   "id": "34e87ead",
   "metadata": {},
   "outputs": [
    {
     "data": {
      "text/plain": [
       "{'artist_id': '4M1M6wBMvcwdQ5EHUAVKgK',\n",
       " 'artist': 'Kelly Moran',\n",
       " 'followers': 1077,\n",
       " 'popularity': 23,\n",
       " 'genres': ''}"
      ]
     },
     "execution_count": 18,
     "metadata": {},
     "output_type": "execute_result"
    }
   ],
   "source": [
    "a4 = sp.artist(art4[\"id\"])\n",
    "\n",
    "row4 = {\n",
    "    \"artist_id\": a4[\"id\"],\n",
    "    \"artist\": a4[\"name\"],\n",
    "    \"followers\": a4[\"followers\"][\"total\"],\n",
    "    \"popularity\": a4[\"popularity\"],\n",
    "    \"genres\": \", \".join(a4.get(\"genres\", [])[:5])\n",
    "}\n",
    "row4\n"
   ]
  },
  {
   "cell_type": "markdown",
   "id": "c10d31c2",
   "metadata": {},
   "source": [
    "## Malibu"
   ]
  },
  {
   "cell_type": "code",
   "execution_count": 19,
   "id": "25a0b550",
   "metadata": {},
   "outputs": [
    {
     "data": {
      "text/plain": [
       "('Malibu', '3gfV2LBMvIE9gjpvowt11B', 21591, 39)"
      ]
     },
     "execution_count": 19,
     "metadata": {},
     "output_type": "execute_result"
    }
   ],
   "source": [
    "name5 = \"Malibu\"\n",
    "res5 = sp.search(q=name5, type=\"artist\", limit=10)\n",
    "cands5 = res5[\"artists\"][\"items\"]\n",
    "\n",
    "art5 = next((a for a in cands4 if a[\"name\"].lower() == name5.lower()),\n",
    "            cands5[0])\n",
    "\n",
    "art5[\"name\"], art5[\"id\"], art5[\"followers\"][\"total\"], art5[\"popularity\"]"
   ]
  },
  {
   "cell_type": "code",
   "execution_count": 20,
   "id": "09b83bdb",
   "metadata": {},
   "outputs": [
    {
     "data": {
      "text/plain": [
       "{'artist_id': '3gfV2LBMvIE9gjpvowt11B',\n",
       " 'artist': 'Malibu',\n",
       " 'followers': 21591,\n",
       " 'popularity': 39,\n",
       " 'genres': 'ambient, drone'}"
      ]
     },
     "execution_count": 20,
     "metadata": {},
     "output_type": "execute_result"
    }
   ],
   "source": [
    "a5 = sp.artist(art5[\"id\"])\n",
    "\n",
    "row5 = {\n",
    "    \"artist_id\": a5[\"id\"],\n",
    "    \"artist\": a5[\"name\"],\n",
    "    \"followers\": a5[\"followers\"][\"total\"],\n",
    "    \"popularity\": a5[\"popularity\"],\n",
    "    \"genres\": \", \".join(a5.get(\"genres\", [])[:5])\n",
    "}\n",
    "row5"
   ]
  },
  {
   "cell_type": "markdown",
   "id": "1ff42319",
   "metadata": {},
   "source": [
    "### create data frame"
   ]
  },
  {
   "cell_type": "code",
   "execution_count": 21,
   "id": "866b0491",
   "metadata": {},
   "outputs": [],
   "source": [
    "import pandas as pd\n",
    "\n",
    "rows = [row, row2, row3, row4, row5]   # make sure these vars exist\n",
    "df = pd.concat([pd.DataFrame([r]) for r in rows], ignore_index=True)\n",
    "df = df[[\"artist_id\",\"artist\",\"followers\",\"popularity\",\"genres\"]]\n",
    "df_artists = df.copy()\n",
    "\n",
    "\n"
   ]
  },
  {
   "cell_type": "code",
   "execution_count": 22,
   "id": "5b8f7d1f",
   "metadata": {},
   "outputs": [],
   "source": [
    "df_artists\n",
    "df_artists.loc[3, \"genres\"] = \"ambient, piano, experimental\" "
   ]
  },
  {
   "cell_type": "code",
   "execution_count": 23,
   "id": "ff1f0ac6",
   "metadata": {},
   "outputs": [
    {
     "data": {
      "image/png": "[encoded data removed]",
      "text/plain": [
       "<Figure size 600x300 with 1 Axes>"
      ]
     },
     "metadata": {},
     "output_type": "display_data"
    }
   ],
   "source": [
    "import matplotlib.pyplot as plt\n",
    "\n",
    "plt.figure(figsize=(6,3))\n",
    "plt.bar(df_artists[\"artist\"], df_artists[\"popularity\"])\n",
    "plt.title(\"Artist Popularity (Spotify 0–100)\")\n",
    "plt.ylabel(\"Popularity\")\n",
    "plt.xticks(rotation=30, ha=\"right\")\n",
    "plt.tight_layout()\n",
    "plt.show()\n"
   ]
  },
  {
   "cell_type": "code",
   "execution_count": 24,
   "id": "abf7b739",
   "metadata": {},
   "outputs": [
    {
     "name": "stdout",
     "output_type": "stream",
     "text": [
      "DataFrame successfully saved to output/ambient_artists_popularity.csv\n"
     ]
    }
   ],
   "source": [
    "import os\n",
    "output_dir = \"output\"\n",
    "if not os.path.exists(output_dir):\n",
    "    os.makedirs(output_dir)\n",
    "#save the DataFrame to a CSV file in the 'output' folder\n",
    "file_path = os.path.join(output_dir, \"ambient_artists_popularity.csv\")\n",
    "df.to_csv(file_path, index=False)\n",
    "\n",
    "print(f\"DataFrame successfully saved to {file_path}\")"
   ]
  },
  {
   "cell_type": "code",
   "execution_count": 25,
   "id": "2f260b76",
   "metadata": {},
   "outputs": [],
   "source": [
    "import requests, pandas as pd\n",
    "\n",
    "def fetch_tables(url: str):\n",
    "    headers = {\"User-Agent\": \"Mozilla/5.0 (class project)\"}\n",
    "    html = requests.get(url, headers=headers, timeout=15).text\n",
    "    return pd.read_html(html)\n",
    "\n",
    "def preview_tables(url: str):\n",
    "    tables = fetch_tables(url)\n",
    "    for i, t in enumerate(tables):\n",
    "        print(i, \"→\", [str(c) for c in t.columns][:6])\n",
    "    \n",
    "    return tables\n"
   ]
  },
  {
   "cell_type": "code",
   "execution_count": 26,
   "id": "9a7a3af0",
   "metadata": {},
   "outputs": [],
   "source": [
    "import requests, pandas as pd, time\n",
    "from urllib.parse import urlparse, parse_qs, unquote\n",
    "from email.utils import parsedate_to_datetime\n",
    "from datetime import datetime, timedelta, timezone\n",
    "import xml.etree.ElementTree as ET\n",
    "\n",
    "HDRS = {\"User-Agent\": \"Mozilla/5.0 (student project)\"}\n",
    "\n",
    "def _resolve_google_link(href: str) -> str:\n",
    "    # Google News RSS often wraps the real URL in ?url=\n",
    "    try:\n",
    "        p = urlparse(href)\n",
    "        qs = parse_qs(p.query)\n",
    "        if \"url\" in qs and qs[\"url\"]:\n",
    "            return unquote(qs[\"url\"][0])\n",
    "    except Exception:\n",
    "        pass\n",
    "    return href\n",
    "\n",
    "def news_mentions(artist: str, domain: str = \"billboard.com\",\n",
    "                  months: int = 36, quoted: bool = True, sleep_s: float = 0.5):\n",
    "    q = f'site:{domain} \"{artist}\"' if quoted else f'site:{domain} {artist}'\n",
    "    url = \"https://news.google.com/rss/search\"\n",
    "    r = requests.get(url, params={\"q\": q, \"hl\":\"en-US\", \"gl\":\"US\", \"ceid\":\"US:en\"},\n",
    "                     headers=HDRS, timeout=15)\n",
    "    r.raise_for_status()\n",
    "\n",
    "    root = ET.fromstring(r.content)\n",
    "    chan = root.find(\"channel\")\n",
    "    items = chan.findall(\"item\") if chan is not None else []\n",
    "\n",
    "    cutoff = datetime.now(timezone.utc) - timedelta(days=months*30)\n",
    "\n",
    "    rows = []\n",
    "    after_domain = 0\n",
    "    for it in items:\n",
    "        title = (it.findtext(\"title\") or \"\").strip()\n",
    "        raw_link = (it.findtext(\"link\") or \"\").strip()\n",
    "        link = _resolve_google_link(raw_link)\n",
    "        pub = (it.findtext(\"pubDate\") or it.findtext(\"{http://www.w3.org/2005/Atom}updated\") or \"\").strip()\n",
    "        try:\n",
    "            dt = parsedate_to_datetime(pub)\n",
    "            if dt is not None and dt.tzinfo is None:\n",
    "                dt = dt.replace(tzinfo=timezone.utc)\n",
    "        except Exception:\n",
    "            dt = None\n",
    "\n",
    "        dom = urlparse(link).netloc.lower()\n",
    "        # domain check first (so we can count how many pass)\n",
    "        if domain in dom:\n",
    "            after_domain += 1\n",
    "            if dt and dt >= cutoff:\n",
    "                rows.append({\"title\": title, \"link\": link, \"published_at\": dt})\n",
    "\n",
    "    time.sleep(sleep_s)\n",
    "    df = pd.DataFrame(rows, columns=[\"title\", \"link\", \"published_at\"])\n",
    "    if not df.empty:\n",
    "        df = df.sort_values(\"published_at\", ascending=False).reset_index(drop=True)\n",
    "\n",
    "    debug = {\n",
    "        \"query\": q,\n",
    "        \"total_items\": len(items),\n",
    "        \"pass_domain\": after_domain,\n",
    "        \"pass_date\": len(df),\n",
    "    }\n",
    "    return len(df), df_artists, debug\n"
   ]
  },
  {
   "cell_type": "code",
   "execution_count": 27,
   "id": "5005ffba",
   "metadata": {},
   "outputs": [
    {
     "data": {
      "text/plain": [
       "(0,\n",
       " [('billboard.com', 0, 7),\n",
       "  ('pitchfork.com', 0, 100),\n",
       "  ('theguardian.com', 0, 59),\n",
       "  ('rollingstone.com', 0, 16),\n",
       "  ('residentadvisor.net', 0, 0)])"
      ]
     },
     "execution_count": 27,
     "metadata": {},
     "output_type": "execute_result"
    }
   ],
   "source": [
    "domains = [\"billboard.com\", \"pitchfork.com\", \"theguardian.com\", \"rollingstone.com\", \"residentadvisor.net\"]\n",
    "\n",
    "def press_index(artist: str, months: int = 36):\n",
    "    total = 0\n",
    "    details = []\n",
    "    for d in domains:\n",
    "        cnt, _, dbg = news_mentions(artist, domain=d, months=months, quoted=False)\n",
    "        total += cnt\n",
    "        details.append((d, cnt, dbg[\"total_items\"]))\n",
    "    return total, details\n",
    "\n",
    "# Example:\n",
    "score, breakdown = press_index(\"Laraaji\")\n",
    "score, breakdown\n"
   ]
  },
  {
   "cell_type": "code",
   "execution_count": 28,
   "id": "547873ff",
   "metadata": {},
   "outputs": [],
   "source": [
    "import requests, pandas as pd, time, xml.etree.ElementTree as ET\n",
    "from urllib.parse import urlparse, parse_qs, unquote\n",
    "from email.utils import parsedate_to_datetime\n",
    "from datetime import datetime, timedelta, timezone\n",
    "\n",
    "HDRS = {\"User-Agent\": \"Mozilla/5.0 (student project)\"}\n",
    "\n",
    "def _resolve_google_link(href: str) -> str:\n",
    "    # Some links include ?url=<real>; keep this as a fallback\n",
    "    try:\n",
    "        p = urlparse(href); qs = parse_qs(p.query)\n",
    "        if \"url\" in qs and qs[\"url\"]:\n",
    "            return unquote(qs[\"url\"][0])\n",
    "    except Exception:\n",
    "        pass\n",
    "    return href\n",
    "\n",
    "def news_mentions(artist: str, domain: str = \"billboard.com\",\n",
    "                  months: int = 36, quoted: bool = True, sleep_s: float = 0.3):\n",
    "    q = f'site:{domain} \"{artist}\"' if quoted else f'site:{domain} {artist}'\n",
    "    url = \"https://news.google.com/rss/search\"\n",
    "    r = requests.get(url, params={\"q\": q, \"hl\":\"en-US\", \"gl\":\"US\", \"ceid\":\"US:en\"},\n",
    "                     headers=HDRS, timeout=15)\n",
    "    r.raise_for_status()\n",
    "\n",
    "    root = ET.fromstring(r.content)\n",
    "    chan = root.find(\"channel\")\n",
    "    items = chan.findall(\"item\") if chan is not None else []\n",
    "\n",
    "    cutoff = datetime.now(timezone.utc) - timedelta(days=months*30)\n",
    "\n",
    "    rows, after_domain = [], 0\n",
    "    for it in items:\n",
    "        title = (it.findtext(\"title\") or \"\").strip()\n",
    "        raw_link = (it.findtext(\"link\") or \"\").strip()\n",
    "        link = _resolve_google_link(raw_link)\n",
    "        pub = (it.findtext(\"pubDate\") or it.findtext(\"{http://www.w3.org/2005/Atom}updated\") or \"\").strip()\n",
    "        try:\n",
    "            dt = parsedate_to_datetime(pub)\n",
    "            if dt is not None and dt.tzinfo is None:\n",
    "                dt = dt.replace(tzinfo=timezone.utc)\n",
    "        except Exception:\n",
    "            dt = None\n",
    "\n",
    "        # NEW: check <source url=\"https://www.billboard.com\">…</source>\n",
    "        src = it.find(\"source\")\n",
    "        src_dom = urlparse(src.attrib.get(\"url\", \"\")).netloc.lower() if src is not None else \"\"\n",
    "\n",
    "        # match if publisher domain matches OR (fallback) link domain matches\n",
    "        link_dom = urlparse(link).netloc.lower()\n",
    "        is_match = (domain in src_dom) or (domain in link_dom)\n",
    "\n",
    "        if is_match:\n",
    "            after_domain += 1\n",
    "            if dt and dt >= cutoff:\n",
    "                rows.append({\"title\": title, \"link\": link, \"published_at\": dt})\n",
    "\n",
    "    time.sleep(sleep_s)\n",
    "\n",
    "    df = pd.DataFrame(rows, columns=[\"title\",\"link\",\"published_at\"])\n",
    "    if not df.empty:\n",
    "        df = df.sort_values(\"published_at\", ascending=False).reset_index(drop=True)\n",
    "\n",
    "    debug = {\"query\": q, \"total_items\": len(items), \"pass_domain\": after_domain, \"pass_date\": len(df)}\n",
    "    return len(df), df, debug\n"
   ]
  },
  {
   "cell_type": "code",
   "execution_count": 29,
   "id": "c0e6b226",
   "metadata": {},
   "outputs": [
    {
     "name": "stdout",
     "output_type": "stream",
     "text": [
      "{'query': 'site:billboard.com Laraaji', 'total_items': 7, 'pass_domain': 7, 'pass_date': 3}\n",
      "3\n"
     ]
    },
    {
     "data": {
      "text/html": [
       "<div>\n",
       "<style scoped>\n",
       "    .dataframe tbody tr th:only-of-type {\n",
       "        vertical-align: middle;\n",
       "    }\n",
       "\n",
       "    .dataframe tbody tr th {\n",
       "        vertical-align: top;\n",
       "    }\n",
       "\n",
       "    .dataframe thead th {\n",
       "        text-align: right;\n",
       "    }\n",
       "</style>\n",
       "<table border=\"1\" class=\"dataframe\">\n",
       "  <thead>\n",
       "    <tr style=\"text-align: right;\">\n",
       "      <th></th>\n",
       "      <th>title</th>\n",
       "      <th>link</th>\n",
       "      <th>published_at</th>\n",
       "    </tr>\n",
       "  </thead>\n",
       "  <tbody>\n",
       "    <tr>\n",
       "      <th>0</th>\n",
       "      <td>Sade’s First New Song in Six Years Included in...</td>\n",
       "      <td>https://news.google.com/rss/articles/CBMitgFBV...</td>\n",
       "      <td>2024-09-04 07:00:00+00:00</td>\n",
       "    </tr>\n",
       "    <tr>\n",
       "      <th>1</th>\n",
       "      <td>Sam Smith To Cover Canadian Legend Beverly Gle...</td>\n",
       "      <td>https://news.google.com/rss/articles/CBMif0FVX...</td>\n",
       "      <td>2024-09-04 07:00:00+00:00</td>\n",
       "    </tr>\n",
       "    <tr>\n",
       "      <th>2</th>\n",
       "      <td>FYI Schedule of Upcoming Releases, May 25, 202...</td>\n",
       "      <td>https://news.google.com/rss/articles/CBMie0FVX...</td>\n",
       "      <td>2023-05-25 07:00:00+00:00</td>\n",
       "    </tr>\n",
       "  </tbody>\n",
       "</table>\n",
       "</div>"
      ],
      "text/plain": [
       "                                               title  \\\n",
       "0  Sade’s First New Song in Six Years Included in...   \n",
       "1  Sam Smith To Cover Canadian Legend Beverly Gle...   \n",
       "2  FYI Schedule of Upcoming Releases, May 25, 202...   \n",
       "\n",
       "                                                link              published_at  \n",
       "0  https://news.google.com/rss/articles/CBMitgFBV... 2024-09-04 07:00:00+00:00  \n",
       "1  https://news.google.com/rss/articles/CBMif0FVX... 2024-09-04 07:00:00+00:00  \n",
       "2  https://news.google.com/rss/articles/CBMie0FVX... 2023-05-25 07:00:00+00:00  "
      ]
     },
     "execution_count": 29,
     "metadata": {},
     "output_type": "execute_result"
    }
   ],
   "source": [
    "cnt, articles, dbg = news_mentions(\"Laraaji\", \"billboard.com\", quoted=False)\n",
    "print(dbg)\n",
    "print(cnt)\n",
    "articles.head(3)\n"
   ]
  },
  {
   "cell_type": "code",
   "execution_count": 30,
   "id": "203c8b74",
   "metadata": {},
   "outputs": [
    {
     "data": {
      "text/plain": [
       "(78,\n",
       " {'billboard.com': 3,\n",
       "  'pitchfork.com': 33,\n",
       "  'theguardian.com': 30,\n",
       "  'rollingstone.com': 12,\n",
       "  'residentadvisor.net': 0})"
      ]
     },
     "execution_count": 30,
     "metadata": {},
     "output_type": "execute_result"
    }
   ],
   "source": [
    "domains = [\n",
    "    \"billboard.com\",\n",
    "    \"pitchfork.com\",\n",
    "    \"theguardian.com\",\n",
    "    \"rollingstone.com\",\n",
    "    \"residentadvisor.net\"\n",
    "]\n",
    "\n",
    "def press_index(artist: str, months: int = 36):\n",
    "    total = 0\n",
    "    per_domain = {}\n",
    "    for d in domains:\n",
    "        cnt, _, _ = news_mentions(artist, domain=d, months=months, quoted=False)\n",
    "        total += cnt\n",
    "        per_domain[d] = cnt\n",
    "    return total, per_domain\n",
    "\n",
    "laraaji_score, breakdown = press_index(\"Laraaji\")\n",
    "laraaji_score, breakdown"
   ]
  },
  {
   "cell_type": "code",
   "execution_count": 31,
   "id": "c32b5561",
   "metadata": {},
   "outputs": [
    {
     "data": {
      "text/html": [
       "<div>\n",
       "<style scoped>\n",
       "    .dataframe tbody tr th:only-of-type {\n",
       "        vertical-align: middle;\n",
       "    }\n",
       "\n",
       "    .dataframe tbody tr th {\n",
       "        vertical-align: top;\n",
       "    }\n",
       "\n",
       "    .dataframe thead th {\n",
       "        text-align: right;\n",
       "    }\n",
       "</style>\n",
       "<table border=\"1\" class=\"dataframe\">\n",
       "  <thead>\n",
       "    <tr style=\"text-align: right;\">\n",
       "      <th></th>\n",
       "      <th>artist_id</th>\n",
       "      <th>artist</th>\n",
       "      <th>followers</th>\n",
       "      <th>popularity</th>\n",
       "      <th>genres</th>\n",
       "      <th>press_index_36m</th>\n",
       "      <th>press_inclusion_36m</th>\n",
       "      <th>press_billboard_com</th>\n",
       "      <th>press_pitchfork_com</th>\n",
       "      <th>press_theguardian_com</th>\n",
       "      <th>press_rollingstone_com</th>\n",
       "      <th>press_residentadvisor_net</th>\n",
       "    </tr>\n",
       "  </thead>\n",
       "  <tbody>\n",
       "    <tr>\n",
       "      <th>0</th>\n",
       "      <td>3gfV2LBMvIE9gjpvowt11B</td>\n",
       "      <td>Malibu</td>\n",
       "      <td>21591</td>\n",
       "      <td>39</td>\n",
       "      <td>ambient, drone</td>\n",
       "      <td>0</td>\n",
       "      <td>109.0</td>\n",
       "      <td>20</td>\n",
       "      <td>29</td>\n",
       "      <td>32</td>\n",
       "      <td>28</td>\n",
       "      <td>0</td>\n",
       "    </tr>\n",
       "    <tr>\n",
       "      <th>1</th>\n",
       "      <td>4M1M6wBMvcwdQ5EHUAVKgK</td>\n",
       "      <td>Kelly Moran</td>\n",
       "      <td>1077</td>\n",
       "      <td>23</td>\n",
       "      <td></td>\n",
       "      <td>0</td>\n",
       "      <td>86.0</td>\n",
       "      <td>16</td>\n",
       "      <td>44</td>\n",
       "      <td>23</td>\n",
       "      <td>3</td>\n",
       "      <td>0</td>\n",
       "    </tr>\n",
       "    <tr>\n",
       "      <th>2</th>\n",
       "      <td>6sd3qv6kReAdo6WsLBtXX4</td>\n",
       "      <td>Laraaji</td>\n",
       "      <td>67368</td>\n",
       "      <td>49</td>\n",
       "      <td>ambient, drone, new age</td>\n",
       "      <td>0</td>\n",
       "      <td>78.0</td>\n",
       "      <td>3</td>\n",
       "      <td>33</td>\n",
       "      <td>30</td>\n",
       "      <td>12</td>\n",
       "      <td>0</td>\n",
       "    </tr>\n",
       "    <tr>\n",
       "      <th>3</th>\n",
       "      <td>38MKhZmMRHAZRz8LqtKIBw</td>\n",
       "      <td>Mary Lattimore</td>\n",
       "      <td>60014</td>\n",
       "      <td>44</td>\n",
       "      <td>ambient, art pop</td>\n",
       "      <td>0</td>\n",
       "      <td>56.0</td>\n",
       "      <td>9</td>\n",
       "      <td>25</td>\n",
       "      <td>4</td>\n",
       "      <td>18</td>\n",
       "      <td>0</td>\n",
       "    </tr>\n",
       "    <tr>\n",
       "      <th>4</th>\n",
       "      <td>0HWfFWL4vVrbaBQqxVCwCi</td>\n",
       "      <td>Julianna Barwick</td>\n",
       "      <td>92073</td>\n",
       "      <td>47</td>\n",
       "      <td>ambient, drone, art pop</td>\n",
       "      <td>0</td>\n",
       "      <td>27.0</td>\n",
       "      <td>2</td>\n",
       "      <td>19</td>\n",
       "      <td>2</td>\n",
       "      <td>4</td>\n",
       "      <td>0</td>\n",
       "    </tr>\n",
       "  </tbody>\n",
       "</table>\n",
       "</div>"
      ],
      "text/plain": [
       "                artist_id            artist  followers  popularity  \\\n",
       "0  3gfV2LBMvIE9gjpvowt11B            Malibu      21591          39   \n",
       "1  4M1M6wBMvcwdQ5EHUAVKgK       Kelly Moran       1077          23   \n",
       "2  6sd3qv6kReAdo6WsLBtXX4           Laraaji      67368          49   \n",
       "3  38MKhZmMRHAZRz8LqtKIBw    Mary Lattimore      60014          44   \n",
       "4  0HWfFWL4vVrbaBQqxVCwCi  Julianna Barwick      92073          47   \n",
       "\n",
       "                    genres  press_index_36m  press_inclusion_36m  \\\n",
       "0           ambient, drone                0                109.0   \n",
       "1                                         0                 86.0   \n",
       "2  ambient, drone, new age                0                 78.0   \n",
       "3         ambient, art pop                0                 56.0   \n",
       "4  ambient, drone, art pop                0                 27.0   \n",
       "\n",
       "   press_billboard_com  press_pitchfork_com  press_theguardian_com  \\\n",
       "0                   20                   29                     32   \n",
       "1                   16                   44                     23   \n",
       "2                    3                   33                     30   \n",
       "3                    9                   25                      4   \n",
       "4                    2                   19                      2   \n",
       "\n",
       "   press_rollingstone_com  press_residentadvisor_net  \n",
       "0                      28                          0  \n",
       "1                       3                          0  \n",
       "2                      12                          0  \n",
       "3                      18                          0  \n",
       "4                       4                          0  "
      ]
     },
     "execution_count": 31,
     "metadata": {},
     "output_type": "execute_result"
    }
   ],
   "source": [
    "# assumes df has a column named \"artist\"\n",
    "df[\"press_index_36m\"] = 0\n",
    "\n",
    "for name in df[\"artist\"].tolist():\n",
    "    score, breakdown = press_index(name, months=36)  # try 60 if your artists are niche\n",
    "    df.loc[df[\"artist\"] == name, \"press_inclusion_36m\"] = int(score)\n",
    "    # (optional) keep a peek at where the mentions came from\n",
    "    for d, c in breakdown.items():\n",
    "        col = f\"press_{d.replace('.', '_')}\"\n",
    "        if col not in df.columns:\n",
    "            df[col] = 0\n",
    "        df.loc[df[\"artist\"] == name, col] = int(c)\n",
    "\n",
    "df.sort_values([\"press_inclusion_36m\"], ascending=[False]).reset_index(drop=True)\n"
   ]
  },
  {
   "cell_type": "code",
   "execution_count": 32,
   "id": "b674d381",
   "metadata": {},
   "outputs": [],
   "source": [
    "domains = [\n",
    "    \"billboard.com\",\n",
    "    \"pitchfork.com\",\n",
    "    \"theguardian.com\",\n",
    "    \"rollingstone.com\",\n",
    "    \"residentadvisor.net\",\n",
    "    \"thequietus.com\",\n",
    "    \"stereogum.com\",\n",
    "    \"daily.bandcamp.com\",  # Bandcamp editorial\n",
    "    \"npr.org\"\n",
    "]\n",
    "\n",
    "def press_index(artist: str, months: int = 36):\n",
    "    total = 0\n",
    "    per_domain = {}\n",
    "    for d in domains:\n",
    "        cnt, _, _ = news_mentions(artist, domain=d, months=months, quoted=False)\n",
    "        per_domain[d] = cnt\n",
    "        total += cnt\n",
    "    return total, per_domain\n",
    "\n",
    "# enrich your df (assumes df['artist'] exists)\n",
    "df[\"press_inclusion_36m\"] = 0\n",
    "for name in df[\"artist\"].tolist():\n",
    "    score, breakdown = press_index(name)\n",
    "    df.loc[df[\"artist\"] == name, \"press_inclusion_36m\"] = int(score)\n",
    "    for d, c in breakdown.items():\n",
    "        col = f\"press_{d.replace('.', '_')}\"\n",
    "        if col not in df.columns:\n",
    "            df[col] = 0\n",
    "        df.loc[df[\"artist\"] == name, col] = int(c)\n",
    "\n",
    "popularity_index = df.sort_values([\"press_inclusion_36m\",\"popularity\"], ascending=[False, False]).reset_index(drop=True)\n"
   ]
  },
  {
   "cell_type": "code",
   "execution_count": 33,
   "id": "228ea77e",
   "metadata": {},
   "outputs": [],
   "source": [
    "popularity_index.to_csv(\"ambient_artist_press_index.csv\", index=False)"
   ]
  },
  {
   "cell_type": "code",
   "execution_count": 34,
   "id": "29512060",
   "metadata": {},
   "outputs": [
    {
     "data": {
      "text/html": [
       "<div>\n",
       "<style scoped>\n",
       "    .dataframe tbody tr th:only-of-type {\n",
       "        vertical-align: middle;\n",
       "    }\n",
       "\n",
       "    .dataframe tbody tr th {\n",
       "        vertical-align: top;\n",
       "    }\n",
       "\n",
       "    .dataframe thead th {\n",
       "        text-align: right;\n",
       "    }\n",
       "</style>\n",
       "<table border=\"1\" class=\"dataframe\">\n",
       "  <thead>\n",
       "    <tr style=\"text-align: right;\">\n",
       "      <th></th>\n",
       "      <th>artist_id</th>\n",
       "      <th>artist</th>\n",
       "      <th>followers</th>\n",
       "      <th>popularity</th>\n",
       "      <th>genres</th>\n",
       "      <th>press_index_36m</th>\n",
       "      <th>press_inclusion_36m</th>\n",
       "      <th>press_billboard_com</th>\n",
       "      <th>press_pitchfork_com</th>\n",
       "      <th>press_theguardian_com</th>\n",
       "      <th>press_rollingstone_com</th>\n",
       "      <th>press_residentadvisor_net</th>\n",
       "      <th>press_thequietus_com</th>\n",
       "      <th>press_stereogum_com</th>\n",
       "      <th>press_daily_bandcamp_com</th>\n",
       "      <th>press_npr_org</th>\n",
       "    </tr>\n",
       "  </thead>\n",
       "  <tbody>\n",
       "    <tr>\n",
       "      <th>0</th>\n",
       "      <td>3gfV2LBMvIE9gjpvowt11B</td>\n",
       "      <td>Malibu</td>\n",
       "      <td>21591</td>\n",
       "      <td>39</td>\n",
       "      <td>ambient, drone</td>\n",
       "      <td>0</td>\n",
       "      <td>220</td>\n",
       "      <td>20</td>\n",
       "      <td>29</td>\n",
       "      <td>32</td>\n",
       "      <td>28</td>\n",
       "      <td>0</td>\n",
       "      <td>10</td>\n",
       "      <td>44</td>\n",
       "      <td>19</td>\n",
       "      <td>38</td>\n",
       "    </tr>\n",
       "    <tr>\n",
       "      <th>1</th>\n",
       "      <td>6sd3qv6kReAdo6WsLBtXX4</td>\n",
       "      <td>Laraaji</td>\n",
       "      <td>67368</td>\n",
       "      <td>49</td>\n",
       "      <td>ambient, drone, new age</td>\n",
       "      <td>0</td>\n",
       "      <td>170</td>\n",
       "      <td>3</td>\n",
       "      <td>33</td>\n",
       "      <td>30</td>\n",
       "      <td>12</td>\n",
       "      <td>0</td>\n",
       "      <td>26</td>\n",
       "      <td>38</td>\n",
       "      <td>16</td>\n",
       "      <td>12</td>\n",
       "    </tr>\n",
       "    <tr>\n",
       "      <th>2</th>\n",
       "      <td>38MKhZmMRHAZRz8LqtKIBw</td>\n",
       "      <td>Mary Lattimore</td>\n",
       "      <td>60014</td>\n",
       "      <td>44</td>\n",
       "      <td>ambient, art pop</td>\n",
       "      <td>0</td>\n",
       "      <td>123</td>\n",
       "      <td>9</td>\n",
       "      <td>25</td>\n",
       "      <td>4</td>\n",
       "      <td>18</td>\n",
       "      <td>0</td>\n",
       "      <td>20</td>\n",
       "      <td>18</td>\n",
       "      <td>14</td>\n",
       "      <td>15</td>\n",
       "    </tr>\n",
       "    <tr>\n",
       "      <th>3</th>\n",
       "      <td>4M1M6wBMvcwdQ5EHUAVKgK</td>\n",
       "      <td>Kelly Moran</td>\n",
       "      <td>1077</td>\n",
       "      <td>23</td>\n",
       "      <td>NaN</td>\n",
       "      <td>0</td>\n",
       "      <td>120</td>\n",
       "      <td>16</td>\n",
       "      <td>44</td>\n",
       "      <td>23</td>\n",
       "      <td>3</td>\n",
       "      <td>0</td>\n",
       "      <td>7</td>\n",
       "      <td>10</td>\n",
       "      <td>2</td>\n",
       "      <td>15</td>\n",
       "    </tr>\n",
       "    <tr>\n",
       "      <th>4</th>\n",
       "      <td>0HWfFWL4vVrbaBQqxVCwCi</td>\n",
       "      <td>Julianna Barwick</td>\n",
       "      <td>92073</td>\n",
       "      <td>47</td>\n",
       "      <td>ambient, drone, art pop</td>\n",
       "      <td>0</td>\n",
       "      <td>54</td>\n",
       "      <td>2</td>\n",
       "      <td>19</td>\n",
       "      <td>2</td>\n",
       "      <td>4</td>\n",
       "      <td>0</td>\n",
       "      <td>13</td>\n",
       "      <td>7</td>\n",
       "      <td>4</td>\n",
       "      <td>3</td>\n",
       "    </tr>\n",
       "  </tbody>\n",
       "</table>\n",
       "</div>"
      ],
      "text/plain": [
       "                artist_id            artist  followers  popularity  \\\n",
       "0  3gfV2LBMvIE9gjpvowt11B            Malibu      21591          39   \n",
       "1  6sd3qv6kReAdo6WsLBtXX4           Laraaji      67368          49   \n",
       "2  38MKhZmMRHAZRz8LqtKIBw    Mary Lattimore      60014          44   \n",
       "3  4M1M6wBMvcwdQ5EHUAVKgK       Kelly Moran       1077          23   \n",
       "4  0HWfFWL4vVrbaBQqxVCwCi  Julianna Barwick      92073          47   \n",
       "\n",
       "                    genres  press_index_36m  press_inclusion_36m  \\\n",
       "0           ambient, drone                0                  220   \n",
       "1  ambient, drone, new age                0                  170   \n",
       "2         ambient, art pop                0                  123   \n",
       "3                      NaN                0                  120   \n",
       "4  ambient, drone, art pop                0                   54   \n",
       "\n",
       "   press_billboard_com  press_pitchfork_com  press_theguardian_com  \\\n",
       "0                   20                   29                     32   \n",
       "1                    3                   33                     30   \n",
       "2                    9                   25                      4   \n",
       "3                   16                   44                     23   \n",
       "4                    2                   19                      2   \n",
       "\n",
       "   press_rollingstone_com  press_residentadvisor_net  press_thequietus_com  \\\n",
       "0                      28                          0                    10   \n",
       "1                      12                          0                    26   \n",
       "2                      18                          0                    20   \n",
       "3                       3                          0                     7   \n",
       "4                       4                          0                    13   \n",
       "\n",
       "   press_stereogum_com  press_daily_bandcamp_com  press_npr_org  \n",
       "0                   44                        19             38  \n",
       "1                   38                        16             12  \n",
       "2                   18                        14             15  \n",
       "3                   10                         2             15  \n",
       "4                    7                         4              3  "
      ]
     },
     "execution_count": 34,
     "metadata": {},
     "output_type": "execute_result"
    }
   ],
   "source": [
    "import pandas as pd\n",
    "import numpy as np\n",
    "\n",
    "url = \"ambient_artist_press_index.csv\"\n",
    "df_press = pd.read_csv(url)\n",
    "\n",
    "df_press"
   ]
  },
  {
   "cell_type": "code",
   "execution_count": 35,
   "id": "639cba7d",
   "metadata": {},
   "outputs": [
    {
     "data": {
      "text/html": [
       "<div>\n",
       "<style scoped>\n",
       "    .dataframe tbody tr th:only-of-type {\n",
       "        vertical-align: middle;\n",
       "    }\n",
       "\n",
       "    .dataframe tbody tr th {\n",
       "        vertical-align: top;\n",
       "    }\n",
       "\n",
       "    .dataframe thead th {\n",
       "        text-align: right;\n",
       "    }\n",
       "</style>\n",
       "<table border=\"1\" class=\"dataframe\">\n",
       "  <thead>\n",
       "    <tr style=\"text-align: right;\">\n",
       "      <th></th>\n",
       "      <th>artist_id</th>\n",
       "      <th>artist</th>\n",
       "      <th>followers</th>\n",
       "      <th>popularity</th>\n",
       "      <th>genres</th>\n",
       "      <th>press_inclusion_36m</th>\n",
       "      <th>press_billboard_com</th>\n",
       "      <th>press_pitchfork_com</th>\n",
       "      <th>press_theguardian_com</th>\n",
       "      <th>press_rollingstone_com</th>\n",
       "      <th>press_residentadvisor_net</th>\n",
       "      <th>press_thequietus_com</th>\n",
       "      <th>press_stereogum_com</th>\n",
       "      <th>press_daily_bandcamp_com</th>\n",
       "      <th>press_npr_org</th>\n",
       "    </tr>\n",
       "  </thead>\n",
       "  <tbody>\n",
       "    <tr>\n",
       "      <th>0</th>\n",
       "      <td>3gfV2LBMvIE9gjpvowt11B</td>\n",
       "      <td>Malibu</td>\n",
       "      <td>21591</td>\n",
       "      <td>39</td>\n",
       "      <td>ambient, drone</td>\n",
       "      <td>220</td>\n",
       "      <td>20</td>\n",
       "      <td>29</td>\n",
       "      <td>32</td>\n",
       "      <td>28</td>\n",
       "      <td>0</td>\n",
       "      <td>10</td>\n",
       "      <td>44</td>\n",
       "      <td>19</td>\n",
       "      <td>38</td>\n",
       "    </tr>\n",
       "    <tr>\n",
       "      <th>1</th>\n",
       "      <td>6sd3qv6kReAdo6WsLBtXX4</td>\n",
       "      <td>Laraaji</td>\n",
       "      <td>67368</td>\n",
       "      <td>49</td>\n",
       "      <td>ambient, drone, new age</td>\n",
       "      <td>170</td>\n",
       "      <td>3</td>\n",
       "      <td>33</td>\n",
       "      <td>30</td>\n",
       "      <td>12</td>\n",
       "      <td>0</td>\n",
       "      <td>26</td>\n",
       "      <td>38</td>\n",
       "      <td>16</td>\n",
       "      <td>12</td>\n",
       "    </tr>\n",
       "    <tr>\n",
       "      <th>2</th>\n",
       "      <td>38MKhZmMRHAZRz8LqtKIBw</td>\n",
       "      <td>Mary Lattimore</td>\n",
       "      <td>60014</td>\n",
       "      <td>44</td>\n",
       "      <td>ambient, art pop</td>\n",
       "      <td>123</td>\n",
       "      <td>9</td>\n",
       "      <td>25</td>\n",
       "      <td>4</td>\n",
       "      <td>18</td>\n",
       "      <td>0</td>\n",
       "      <td>20</td>\n",
       "      <td>18</td>\n",
       "      <td>14</td>\n",
       "      <td>15</td>\n",
       "    </tr>\n",
       "    <tr>\n",
       "      <th>3</th>\n",
       "      <td>4M1M6wBMvcwdQ5EHUAVKgK</td>\n",
       "      <td>Kelly Moran</td>\n",
       "      <td>1077</td>\n",
       "      <td>23</td>\n",
       "      <td>NaN</td>\n",
       "      <td>120</td>\n",
       "      <td>16</td>\n",
       "      <td>44</td>\n",
       "      <td>23</td>\n",
       "      <td>3</td>\n",
       "      <td>0</td>\n",
       "      <td>7</td>\n",
       "      <td>10</td>\n",
       "      <td>2</td>\n",
       "      <td>15</td>\n",
       "    </tr>\n",
       "    <tr>\n",
       "      <th>4</th>\n",
       "      <td>0HWfFWL4vVrbaBQqxVCwCi</td>\n",
       "      <td>Julianna Barwick</td>\n",
       "      <td>92073</td>\n",
       "      <td>47</td>\n",
       "      <td>ambient, drone, art pop</td>\n",
       "      <td>54</td>\n",
       "      <td>2</td>\n",
       "      <td>19</td>\n",
       "      <td>2</td>\n",
       "      <td>4</td>\n",
       "      <td>0</td>\n",
       "      <td>13</td>\n",
       "      <td>7</td>\n",
       "      <td>4</td>\n",
       "      <td>3</td>\n",
       "    </tr>\n",
       "  </tbody>\n",
       "</table>\n",
       "</div>"
      ],
      "text/plain": [
       "                artist_id            artist  followers  popularity  \\\n",
       "0  3gfV2LBMvIE9gjpvowt11B            Malibu      21591          39   \n",
       "1  6sd3qv6kReAdo6WsLBtXX4           Laraaji      67368          49   \n",
       "2  38MKhZmMRHAZRz8LqtKIBw    Mary Lattimore      60014          44   \n",
       "3  4M1M6wBMvcwdQ5EHUAVKgK       Kelly Moran       1077          23   \n",
       "4  0HWfFWL4vVrbaBQqxVCwCi  Julianna Barwick      92073          47   \n",
       "\n",
       "                    genres  press_inclusion_36m  press_billboard_com  \\\n",
       "0           ambient, drone                  220                   20   \n",
       "1  ambient, drone, new age                  170                    3   \n",
       "2         ambient, art pop                  123                    9   \n",
       "3                      NaN                  120                   16   \n",
       "4  ambient, drone, art pop                   54                    2   \n",
       "\n",
       "   press_pitchfork_com  press_theguardian_com  press_rollingstone_com  \\\n",
       "0                   29                     32                      28   \n",
       "1                   33                     30                      12   \n",
       "2                   25                      4                      18   \n",
       "3                   44                     23                       3   \n",
       "4                   19                      2                       4   \n",
       "\n",
       "   press_residentadvisor_net  press_thequietus_com  press_stereogum_com  \\\n",
       "0                          0                    10                   44   \n",
       "1                          0                    26                   38   \n",
       "2                          0                    20                   18   \n",
       "3                          0                     7                   10   \n",
       "4                          0                    13                    7   \n",
       "\n",
       "   press_daily_bandcamp_com  press_npr_org  \n",
       "0                        19             38  \n",
       "1                        16             12  \n",
       "2                        14             15  \n",
       "3                         2             15  \n",
       "4                         4              3  "
      ]
     },
     "execution_count": 35,
     "metadata": {},
     "output_type": "execute_result"
    }
   ],
   "source": [
    "# drop redundant columns if they exist\n",
    "df_press.drop(columns=[\"press_index_36m\"], errors='ignore', inplace=True)\n",
    "\n",
    "df_press"
   ]
  },
  {
   "cell_type": "code",
   "execution_count": 36,
   "id": "e944a993",
   "metadata": {},
   "outputs": [],
   "source": [
    "# rename columnns for clarity\n",
    "df_press = df_press.rename(columns={\"artist_id\": \"spotify_artist_id\",\n",
    "               \"followers\": \"spotify_followers\",\n",
    "               \"popularity\": \"spotify_popularity\",\n",
    "               \"genres\": \"spotify_genres\",\n",
    "               \"press_billboard_com\": \"billboard\",\n",
    "               \"press_pitchfork_com\": \"pitchfork\",\n",
    "               \"press_theguardian_com\": \"the_guardian\",\n",
    "               \"press_rollingstone_com\": \"rolling_stone\",\n",
    "               \"press_residentadvisor_net\": \"resident_advisor\",\n",
    "               \"press_thequietus_com\": \"the_quietus\",\n",
    "               \"press_stereogum_com\": \"stereogum\",\n",
    "               \"press_daily_bandcamp_com\": \"bandcamp_editorial\",\n",
    "               \"press_npr_org\": \"npr\"})"
   ]
  },
  {
   "cell_type": "code",
   "execution_count": 37,
   "id": "aab8188d",
   "metadata": {},
   "outputs": [
    {
     "data": {
      "text/html": [
       "<div>\n",
       "<style scoped>\n",
       "    .dataframe tbody tr th:only-of-type {\n",
       "        vertical-align: middle;\n",
       "    }\n",
       "\n",
       "    .dataframe tbody tr th {\n",
       "        vertical-align: top;\n",
       "    }\n",
       "\n",
       "    .dataframe thead th {\n",
       "        text-align: right;\n",
       "    }\n",
       "</style>\n",
       "<table border=\"1\" class=\"dataframe\">\n",
       "  <thead>\n",
       "    <tr style=\"text-align: right;\">\n",
       "      <th></th>\n",
       "      <th>spotify_artist_id</th>\n",
       "      <th>artist</th>\n",
       "      <th>spotify_followers</th>\n",
       "      <th>spotify_popularity</th>\n",
       "      <th>spotify_genres</th>\n",
       "      <th>press_inclusion_36m</th>\n",
       "      <th>billboard</th>\n",
       "      <th>pitchfork</th>\n",
       "      <th>the_guardian</th>\n",
       "      <th>rolling_stone</th>\n",
       "      <th>resident_advisor</th>\n",
       "      <th>the_quietus</th>\n",
       "      <th>stereogum</th>\n",
       "      <th>bandcamp_editorial</th>\n",
       "      <th>npr</th>\n",
       "    </tr>\n",
       "  </thead>\n",
       "  <tbody>\n",
       "    <tr>\n",
       "      <th>0</th>\n",
       "      <td>3gfV2LBMvIE9gjpvowt11B</td>\n",
       "      <td>Malibu</td>\n",
       "      <td>21591</td>\n",
       "      <td>39</td>\n",
       "      <td>ambient, drone</td>\n",
       "      <td>220</td>\n",
       "      <td>20</td>\n",
       "      <td>29</td>\n",
       "      <td>32</td>\n",
       "      <td>28</td>\n",
       "      <td>0</td>\n",
       "      <td>10</td>\n",
       "      <td>44</td>\n",
       "      <td>19</td>\n",
       "      <td>38</td>\n",
       "    </tr>\n",
       "    <tr>\n",
       "      <th>1</th>\n",
       "      <td>6sd3qv6kReAdo6WsLBtXX4</td>\n",
       "      <td>Laraaji</td>\n",
       "      <td>67368</td>\n",
       "      <td>49</td>\n",
       "      <td>ambient, drone, new age</td>\n",
       "      <td>170</td>\n",
       "      <td>3</td>\n",
       "      <td>33</td>\n",
       "      <td>30</td>\n",
       "      <td>12</td>\n",
       "      <td>0</td>\n",
       "      <td>26</td>\n",
       "      <td>38</td>\n",
       "      <td>16</td>\n",
       "      <td>12</td>\n",
       "    </tr>\n",
       "    <tr>\n",
       "      <th>2</th>\n",
       "      <td>38MKhZmMRHAZRz8LqtKIBw</td>\n",
       "      <td>Mary Lattimore</td>\n",
       "      <td>60014</td>\n",
       "      <td>44</td>\n",
       "      <td>ambient, art pop</td>\n",
       "      <td>123</td>\n",
       "      <td>9</td>\n",
       "      <td>25</td>\n",
       "      <td>4</td>\n",
       "      <td>18</td>\n",
       "      <td>0</td>\n",
       "      <td>20</td>\n",
       "      <td>18</td>\n",
       "      <td>14</td>\n",
       "      <td>15</td>\n",
       "    </tr>\n",
       "    <tr>\n",
       "      <th>3</th>\n",
       "      <td>4M1M6wBMvcwdQ5EHUAVKgK</td>\n",
       "      <td>Kelly Moran</td>\n",
       "      <td>1077</td>\n",
       "      <td>23</td>\n",
       "      <td>NaN</td>\n",
       "      <td>120</td>\n",
       "      <td>16</td>\n",
       "      <td>44</td>\n",
       "      <td>23</td>\n",
       "      <td>3</td>\n",
       "      <td>0</td>\n",
       "      <td>7</td>\n",
       "      <td>10</td>\n",
       "      <td>2</td>\n",
       "      <td>15</td>\n",
       "    </tr>\n",
       "    <tr>\n",
       "      <th>4</th>\n",
       "      <td>0HWfFWL4vVrbaBQqxVCwCi</td>\n",
       "      <td>Julianna Barwick</td>\n",
       "      <td>92073</td>\n",
       "      <td>47</td>\n",
       "      <td>ambient, drone, art pop</td>\n",
       "      <td>54</td>\n",
       "      <td>2</td>\n",
       "      <td>19</td>\n",
       "      <td>2</td>\n",
       "      <td>4</td>\n",
       "      <td>0</td>\n",
       "      <td>13</td>\n",
       "      <td>7</td>\n",
       "      <td>4</td>\n",
       "      <td>3</td>\n",
       "    </tr>\n",
       "  </tbody>\n",
       "</table>\n",
       "</div>"
      ],
      "text/plain": [
       "        spotify_artist_id            artist  spotify_followers  \\\n",
       "0  3gfV2LBMvIE9gjpvowt11B            Malibu              21591   \n",
       "1  6sd3qv6kReAdo6WsLBtXX4           Laraaji              67368   \n",
       "2  38MKhZmMRHAZRz8LqtKIBw    Mary Lattimore              60014   \n",
       "3  4M1M6wBMvcwdQ5EHUAVKgK       Kelly Moran               1077   \n",
       "4  0HWfFWL4vVrbaBQqxVCwCi  Julianna Barwick              92073   \n",
       "\n",
       "   spotify_popularity           spotify_genres  press_inclusion_36m  \\\n",
       "0                  39           ambient, drone                  220   \n",
       "1                  49  ambient, drone, new age                  170   \n",
       "2                  44         ambient, art pop                  123   \n",
       "3                  23                      NaN                  120   \n",
       "4                  47  ambient, drone, art pop                   54   \n",
       "\n",
       "   billboard  pitchfork  the_guardian  rolling_stone  resident_advisor  \\\n",
       "0         20         29            32             28                 0   \n",
       "1          3         33            30             12                 0   \n",
       "2          9         25             4             18                 0   \n",
       "3         16         44            23              3                 0   \n",
       "4          2         19             2              4                 0   \n",
       "\n",
       "   the_quietus  stereogum  bandcamp_editorial  npr  \n",
       "0           10         44                  19   38  \n",
       "1           26         38                  16   12  \n",
       "2           20         18                  14   15  \n",
       "3            7         10                   2   15  \n",
       "4           13          7                   4    3  "
      ]
     },
     "execution_count": 37,
     "metadata": {},
     "output_type": "execute_result"
    }
   ],
   "source": [
    "df_press"
   ]
  },
  {
   "cell_type": "code",
   "execution_count": 38,
   "id": "f1e76aa7",
   "metadata": {},
   "outputs": [
    {
     "data": {
      "text/html": [
       "<div>\n",
       "<style scoped>\n",
       "    .dataframe tbody tr th:only-of-type {\n",
       "        vertical-align: middle;\n",
       "    }\n",
       "\n",
       "    .dataframe tbody tr th {\n",
       "        vertical-align: top;\n",
       "    }\n",
       "\n",
       "    .dataframe thead th {\n",
       "        text-align: right;\n",
       "    }\n",
       "</style>\n",
       "<table border=\"1\" class=\"dataframe\">\n",
       "  <thead>\n",
       "    <tr style=\"text-align: right;\">\n",
       "      <th></th>\n",
       "      <th>spotify_artist_id</th>\n",
       "      <th>artist</th>\n",
       "      <th>spotify_followers</th>\n",
       "      <th>spotify_popularity</th>\n",
       "      <th>spotify_genres</th>\n",
       "      <th>press_inclusion_36m</th>\n",
       "      <th>billboard</th>\n",
       "      <th>pitchfork</th>\n",
       "      <th>the_guardian</th>\n",
       "      <th>rolling_stone</th>\n",
       "      <th>resident_advisor</th>\n",
       "      <th>the_quietus</th>\n",
       "      <th>stereogum</th>\n",
       "      <th>bandcamp_editorial</th>\n",
       "      <th>npr</th>\n",
       "    </tr>\n",
       "  </thead>\n",
       "  <tbody>\n",
       "    <tr>\n",
       "      <th>0</th>\n",
       "      <td>3gfV2LBMvIE9gjpvowt11B</td>\n",
       "      <td>Malibu</td>\n",
       "      <td>21591</td>\n",
       "      <td>39</td>\n",
       "      <td>ambient, drone</td>\n",
       "      <td>220</td>\n",
       "      <td>20</td>\n",
       "      <td>29</td>\n",
       "      <td>32</td>\n",
       "      <td>28</td>\n",
       "      <td>0</td>\n",
       "      <td>10</td>\n",
       "      <td>44</td>\n",
       "      <td>19</td>\n",
       "      <td>38</td>\n",
       "    </tr>\n",
       "    <tr>\n",
       "      <th>1</th>\n",
       "      <td>6sd3qv6kReAdo6WsLBtXX4</td>\n",
       "      <td>Laraaji</td>\n",
       "      <td>67368</td>\n",
       "      <td>49</td>\n",
       "      <td>ambient, drone, new age</td>\n",
       "      <td>170</td>\n",
       "      <td>3</td>\n",
       "      <td>33</td>\n",
       "      <td>30</td>\n",
       "      <td>12</td>\n",
       "      <td>0</td>\n",
       "      <td>26</td>\n",
       "      <td>38</td>\n",
       "      <td>16</td>\n",
       "      <td>12</td>\n",
       "    </tr>\n",
       "    <tr>\n",
       "      <th>2</th>\n",
       "      <td>38MKhZmMRHAZRz8LqtKIBw</td>\n",
       "      <td>Mary Lattimore</td>\n",
       "      <td>60014</td>\n",
       "      <td>44</td>\n",
       "      <td>ambient, art pop</td>\n",
       "      <td>123</td>\n",
       "      <td>9</td>\n",
       "      <td>25</td>\n",
       "      <td>4</td>\n",
       "      <td>18</td>\n",
       "      <td>0</td>\n",
       "      <td>20</td>\n",
       "      <td>18</td>\n",
       "      <td>14</td>\n",
       "      <td>15</td>\n",
       "    </tr>\n",
       "    <tr>\n",
       "      <th>3</th>\n",
       "      <td>4M1M6wBMvcwdQ5EHUAVKgK</td>\n",
       "      <td>Kelly Moran</td>\n",
       "      <td>1077</td>\n",
       "      <td>23</td>\n",
       "      <td>NaN</td>\n",
       "      <td>120</td>\n",
       "      <td>16</td>\n",
       "      <td>44</td>\n",
       "      <td>23</td>\n",
       "      <td>3</td>\n",
       "      <td>0</td>\n",
       "      <td>7</td>\n",
       "      <td>10</td>\n",
       "      <td>2</td>\n",
       "      <td>15</td>\n",
       "    </tr>\n",
       "    <tr>\n",
       "      <th>4</th>\n",
       "      <td>0HWfFWL4vVrbaBQqxVCwCi</td>\n",
       "      <td>Julianna Barwick</td>\n",
       "      <td>92073</td>\n",
       "      <td>47</td>\n",
       "      <td>ambient, drone, art pop</td>\n",
       "      <td>54</td>\n",
       "      <td>2</td>\n",
       "      <td>19</td>\n",
       "      <td>2</td>\n",
       "      <td>4</td>\n",
       "      <td>0</td>\n",
       "      <td>13</td>\n",
       "      <td>7</td>\n",
       "      <td>4</td>\n",
       "      <td>3</td>\n",
       "    </tr>\n",
       "  </tbody>\n",
       "</table>\n",
       "</div>"
      ],
      "text/plain": [
       "        spotify_artist_id            artist  spotify_followers  \\\n",
       "0  3gfV2LBMvIE9gjpvowt11B            Malibu              21591   \n",
       "1  6sd3qv6kReAdo6WsLBtXX4           Laraaji              67368   \n",
       "2  38MKhZmMRHAZRz8LqtKIBw    Mary Lattimore              60014   \n",
       "3  4M1M6wBMvcwdQ5EHUAVKgK       Kelly Moran               1077   \n",
       "4  0HWfFWL4vVrbaBQqxVCwCi  Julianna Barwick              92073   \n",
       "\n",
       "   spotify_popularity           spotify_genres  press_inclusion_36m  \\\n",
       "0                  39           ambient, drone                  220   \n",
       "1                  49  ambient, drone, new age                  170   \n",
       "2                  44         ambient, art pop                  123   \n",
       "3                  23                      NaN                  120   \n",
       "4                  47  ambient, drone, art pop                   54   \n",
       "\n",
       "   billboard  pitchfork  the_guardian  rolling_stone  resident_advisor  \\\n",
       "0         20         29            32             28                 0   \n",
       "1          3         33            30             12                 0   \n",
       "2          9         25             4             18                 0   \n",
       "3         16         44            23              3                 0   \n",
       "4          2         19             2              4                 0   \n",
       "\n",
       "   the_quietus  stereogum  bandcamp_editorial  npr  \n",
       "0           10         44                  19   38  \n",
       "1           26         38                  16   12  \n",
       "2           20         18                  14   15  \n",
       "3            7         10                   2   15  \n",
       "4           13          7                   4    3  "
      ]
     },
     "execution_count": 38,
     "metadata": {},
     "output_type": "execute_result"
    }
   ],
   "source": [
    "# reorder coluimns for readability\n",
    "cols = list(df_press.columns)\n",
    "cols.remove(\"press_inclusion_36m\")\n",
    "cols.insert(5, \"press_inclusion_36m\")\n",
    "df_press = df_press[cols]\n",
    "\n",
    "df_press"
   ]
  },
  {
   "cell_type": "code",
   "execution_count": 39,
   "id": "397d5a10",
   "metadata": {},
   "outputs": [
    {
     "data": {
      "text/plain": [
       "np.int64(0)"
      ]
     },
     "execution_count": 39,
     "metadata": {},
     "output_type": "execute_result"
    }
   ],
   "source": [
    "df_press.duplicated(subset=[\"artist\"]).sum()"
   ]
  },
  {
   "cell_type": "code",
   "execution_count": 40,
   "id": "34414478",
   "metadata": {},
   "outputs": [
    {
     "data": {
      "text/html": [
       "<div>\n",
       "<style scoped>\n",
       "    .dataframe tbody tr th:only-of-type {\n",
       "        vertical-align: middle;\n",
       "    }\n",
       "\n",
       "    .dataframe tbody tr th {\n",
       "        vertical-align: top;\n",
       "    }\n",
       "\n",
       "    .dataframe thead th {\n",
       "        text-align: right;\n",
       "    }\n",
       "</style>\n",
       "<table border=\"1\" class=\"dataframe\">\n",
       "  <thead>\n",
       "    <tr style=\"text-align: right;\">\n",
       "      <th></th>\n",
       "      <th>artist</th>\n",
       "      <th>press_inclusion_36m</th>\n",
       "      <th>press_sum_check</th>\n",
       "    </tr>\n",
       "  </thead>\n",
       "  <tbody>\n",
       "    <tr>\n",
       "      <th>0</th>\n",
       "      <td>Malibu</td>\n",
       "      <td>220</td>\n",
       "      <td>220</td>\n",
       "    </tr>\n",
       "    <tr>\n",
       "      <th>1</th>\n",
       "      <td>Laraaji</td>\n",
       "      <td>170</td>\n",
       "      <td>170</td>\n",
       "    </tr>\n",
       "    <tr>\n",
       "      <th>2</th>\n",
       "      <td>Mary Lattimore</td>\n",
       "      <td>123</td>\n",
       "      <td>123</td>\n",
       "    </tr>\n",
       "    <tr>\n",
       "      <th>3</th>\n",
       "      <td>Kelly Moran</td>\n",
       "      <td>120</td>\n",
       "      <td>120</td>\n",
       "    </tr>\n",
       "    <tr>\n",
       "      <th>4</th>\n",
       "      <td>Julianna Barwick</td>\n",
       "      <td>54</td>\n",
       "      <td>54</td>\n",
       "    </tr>\n",
       "  </tbody>\n",
       "</table>\n",
       "</div>"
      ],
      "text/plain": [
       "             artist  press_inclusion_36m  press_sum_check\n",
       "0            Malibu                  220              220\n",
       "1           Laraaji                  170              170\n",
       "2    Mary Lattimore                  123              123\n",
       "3       Kelly Moran                  120              120\n",
       "4  Julianna Barwick                   54               54"
      ]
     },
     "execution_count": 40,
     "metadata": {},
     "output_type": "execute_result"
    }
   ],
   "source": [
    "press_cols = [\"billboard\", \"pitchfork\", \"the_guardian\", \"rolling_stone\", \"resident_advisor\",\n",
    "              \"the_quietus\", \"stereogum\", \"bandcamp_editorial\", \"npr\"]\n",
    "df_press[\"press_sum_check\"] = df_press[press_cols].sum(axis=1)\n",
    "df_press[[\"artist\", \"press_inclusion_36m\", \"press_sum_check\"]]"
   ]
  },
  {
   "cell_type": "code",
   "execution_count": 41,
   "id": "00042458",
   "metadata": {},
   "outputs": [
    {
     "data": {
      "text/plain": [
       "['The Best Country Music on Bandcamp, August 2025 - Bandcamp Daily',\n",
       " 'Mondo Lava, “Utero Dei” - Bandcamp Daily',\n",
       " 'The Best Ambient Music on Bandcamp, April 2025 - Bandcamp Daily',\n",
       " 'The Best Field Recordings on Bandcamp, January 2025 - Bandcamp Daily',\n",
       " 'Various Artists, “Praise Poems 10” - Bandcamp Daily',\n",
       " 'Ghais Guevara, “Goyard Ibn Said” - Bandcamp Daily',\n",
       " 'The Best Ambient Music on Bandcamp, November 2024 - Bandcamp Daily',\n",
       " 'Essential Releases, August 30, 2024 - Bandcamp Daily',\n",
       " 'How A Scottish Funk-Punk Trio Became Long Island’s Biggest Band - Bandcamp Daily',\n",
       " 'Reunited After 33 Years, Cyberaktif Reveal Their “eNdgame” - Bandcamp Daily',\n",
       " 'Essential Releases, February 9, 2024 - Bandcamp Daily',\n",
       " 'The Best Hip-Hop Albums of 2023 - Bandcamp Daily',\n",
       " 'The Best Country Music on Bandcamp: November 2023 - Bandcamp Daily',\n",
       " 'Big Ups: Protomartyr Pick Their Bandcamp Favorites - Bandcamp Daily',\n",
       " 'Tase Grip Collective Continue Hip-Hop’s Tradition of Collaboration - Bandcamp Daily',\n",
       " 'The Best Hip-Hop on Bandcamp: March 2023 - Bandcamp Daily',\n",
       " 'Spectacular Diagnostics, “Raw Lessons” - Bandcamp Daily',\n",
       " 'A Peek Into the World of Indonesian Indie Pop - Bandcamp Daily',\n",
       " 'The Best Ambient on Bandcamp: January 2023 - Bandcamp Daily']"
      ]
     },
     "execution_count": 41,
     "metadata": {},
     "output_type": "execute_result"
    }
   ],
   "source": [
    "# Malibu news mentions on seemw way to high, let's investigate\n",
    "cnt, articles, dbg = news_mentions(\"Malibu\", \"daily.bandcamp.com\", quoted=False)\n",
    "articles[\"title\"].head(20).tolist()"
   ]
  },
  {
   "cell_type": "code",
   "execution_count": 42,
   "id": "08150208",
   "metadata": {},
   "outputs": [],
   "source": [
    "# relationships, distrobutions, missing values, outliers\n"
   ]
  },
  {
   "cell_type": "markdown",
   "id": "d8afe619",
   "metadata": {},
   "source": [
    "### Correlation analysis"
   ]
  },
  {
   "cell_type": "code",
   "execution_count": 48,
   "id": "3b0759c5",
   "metadata": {},
   "outputs": [
    {
     "data": {
      "image/png": "[encoded data removed]",
      "text/plain": [
       "<Figure size 800x600 with 2 Axes>"
      ]
     },
     "metadata": {},
     "output_type": "display_data"
    }
   ],
   "source": [
    "# create a heatmap to visualise correlation matrix \n",
    "df_press_no_outliers = df_press[df_press['artist'] != 'Malibu']\n",
    "\n",
    "# Now, use this new DataFrame for your correlation analysis\n",
    "correlation_data = df_press_no_outliers[['spotify_followers', 'spotify_popularity', 'press_inclusion_36m']]\n",
    "correlation_matrix = correlation_data.corr()\n",
    "\n",
    "plt.figure(figsize=(8, 6))\n",
    "sns.heatmap(correlation_matrix, annot=True, cmap='coolwarm', fmt=\".2f\")\n",
    "plt.title('Correlation Matrix (Without Malibu Outlier)')\n",
    "plt.show()\n",
    "\n"
   ]
  },
  {
   "cell_type": "markdown",
   "id": "3e0bbec1",
   "metadata": {},
   "source": [
    "Key Findings\n",
    "- Spotify Followers vs. Spotify Popularity (r = 0.94): This is a very strong positive correlation. As an artist's number of followers increases, their popularity score on Spotify also increases significantly. This is a very intuitive and strong finding.\n",
    "\n",
    "- Spotify Followers vs. Press Mentions (r = -0.33): This is a weak negative correlation. This suggests that as an artist gains more followers, they tend to receive slightly fewer press mentions. This is an interesting and perhaps unexpected result.\n",
    "\n",
    "- Spotify Popularity vs. Press Mentions (r = 0.01): This indicates no correlation. The artist's popularity on Spotify has no linear relationship with the number of press mentions they receive."
   ]
  },
  {
   "cell_type": "code",
   "execution_count": null,
   "id": "13375128",
   "metadata": {},
   "outputs": [],
   "source": []
  },
  {
   "cell_type": "markdown",
   "id": "5ade6fc7",
   "metadata": {},
   "source": [
    "### Advanced Visualization: Scatter Plot with Regression Line"
   ]
  },
  {
   "cell_type": "markdown",
   "id": "208fc81f",
   "metadata": {},
   "source": [
    "#### Spotify Popularity: Scatter Plot with Regression Line"
   ]
  },
  {
   "cell_type": "code",
   "execution_count": 49,
   "id": "8de9d9c0",
   "metadata": {},
   "outputs": [
    {
     "data": {
      "image/png": "[encoded data removed]",
      "text/plain": [
       "<Figure size 750x500 with 1 Axes>"
      ]
     },
     "metadata": {},
     "output_type": "display_data"
    }
   ],
   "source": [
    "# Use the DataFrame without the 'Malibu' outlier\n",
    "sns.lmplot(x='spotify_followers', y='spotify_popularity', data=df_press_no_outliers, aspect=1.5)\n",
    "\n",
    "plt.title('Spotify Followers vs. Popularity')\n",
    "plt.xlabel('Spotify Followers (in tens of thousands)')\n",
    "plt.ylabel('Spotify Popularity Score')\n",
    "plt.show()"
   ]
  },
  {
   "cell_type": "markdown",
   "id": "1d5e460d",
   "metadata": {},
   "source": [
    "- Clear and strong positive relationship between an artist's Spotify followers and their popularity score. \n",
    "- The regression line indicates that as followers increase, popularity tends to increase in a predictable, linear fashion. \n",
    "- This confirms our statistical finding of a 0.94 correlation coefficient."
   ]
  },
  {
   "cell_type": "markdown",
   "id": "f6d8f1bb",
   "metadata": {},
   "source": [
    "#### Stacked Bar Chart: Press Mentions Breakdown"
   ]
  },
  {
   "cell_type": "code",
   "execution_count": 50,
   "id": "a17cc5f0",
   "metadata": {},
   "outputs": [
    {
     "data": {
      "image/png": "[encoded data removed]",
      "text/plain": [
       "<Figure size 1200x800 with 1 Axes>"
      ]
     },
     "metadata": {},
     "output_type": "display_data"
    }
   ],
   "source": [
    "# Select the press columns and the artist names\n",
    "press_columns = ['billboard', 'pitchfork', 'the_guardian', 'rolling_stone', \n",
    "                 'resident_advisor', 'the_quietus', 'stereogum', 'bandcamp_editorial', 'npr']\n",
    "chart_data = df_press_no_outliers[['artist'] + press_columns]\n",
    "\n",
    "# Set the artist name as the index\n",
    "chart_data = chart_data.set_index('artist')\n",
    "\n",
    "# Create the stacked bar chart\n",
    "ax = chart_data.plot(kind='barh', stacked=True, figsize=(12, 8), colormap='tab20')\n",
    "\n",
    "# Add labels and title for clarity\n",
    "ax.set_xlabel('Number of Mentions (Last 36 Months)')\n",
    "ax.set_ylabel('Artist')\n",
    "ax.set_title('Press Mentions by Publication for Each Artist')\n",
    "plt.tight_layout()\n",
    "plt.show()"
   ]
  },
  {
   "cell_type": "markdown",
   "id": "f2132bef",
   "metadata": {},
   "source": [
    "- This chart breaks down the press coverage for each artist. \n",
    "- We can see that 'Pitchfork' is a major source of mentions for artists like Kelly Moran and Laraaji, while other artists get more balanced coverage. \n",
    "- This visualization helps us understand the media landscape for these ambient artists"
   ]
  },
  {
   "cell_type": "code",
   "execution_count": null,
   "id": "1ef50255",
   "metadata": {},
   "outputs": [],
   "source": []
  }
 ],
 "metadata": {
  "kernelspec": {
   "display_name": "api-lab",
   "language": "python",
   "name": "python3"
  },
  "language_info": {
   "codemirror_mode": {
    "name": "ipython",
    "version": 3
   },
   "file_extension": ".py",
   "mimetype": "text/x-python",
   "name": "python",
   "nbconvert_exporter": "python",
   "pygments_lexer": "ipython3",
   "version": "3.12.11"
  }
 },
 "nbformat": 4,
 "nbformat_minor": 5
}
